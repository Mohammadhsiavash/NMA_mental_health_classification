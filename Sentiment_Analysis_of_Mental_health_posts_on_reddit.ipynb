{
  "nbformat": 4,
  "nbformat_minor": 0,
  "metadata": {
    "colab": {
      "provenance": [],
      "authorship_tag": "ABX9TyNU4NJoZl6Xi6jPOz46PfOR",
      "include_colab_link": true
    },
    "kernelspec": {
      "name": "python3",
      "display_name": "Python 3"
    },
    "language_info": {
      "name": "python"
    }
  },
  "cells": [
    {
      "cell_type": "markdown",
      "metadata": {
        "id": "view-in-github",
        "colab_type": "text"
      },
      "source": [
        "<a href=\"https://colab.research.google.com/github/Mohammadhsiavash/Sentiment-analysis-with-NLP/blob/main/Sentiment_Analysis_of_Mental_health_posts_on_reddit.ipynb\" target=\"_parent\"><img src=\"https://colab.research.google.com/assets/colab-badge.svg\" alt=\"Open In Colab\"/></a>"
      ]
    },
    {
      "cell_type": "code",
      "source": [
        "from google.colab import drive\n",
        "drive.mount(\"/content/drive\")"
      ],
      "metadata": {
        "colab": {
          "base_uri": "https://localhost:8080/"
        },
        "id": "pvjoT4cK4en2",
        "outputId": "50464dcb-0e11-48f8-d842-561f23cd0fd8"
      },
      "execution_count": 20,
      "outputs": [
        {
          "output_type": "stream",
          "name": "stdout",
          "text": [
            "Drive already mounted at /content/drive; to attempt to forcibly remount, call drive.mount(\"/content/drive\", force_remount=True).\n"
          ]
        }
      ]
    },
    {
      "cell_type": "code",
      "source": [
        "!apt-get install unrar"
      ],
      "metadata": {
        "colab": {
          "base_uri": "https://localhost:8080/"
        },
        "id": "vpOAIt_h_I7X",
        "outputId": "c75030cb-aa58-43d8-a13c-6acf7f5d9a02"
      },
      "execution_count": 23,
      "outputs": [
        {
          "output_type": "stream",
          "name": "stdout",
          "text": [
            "Reading package lists... Done\n",
            "Building dependency tree       \n",
            "Reading state information... Done\n",
            "unrar is already the newest version (1:5.6.6-2build1).\n",
            "0 upgraded, 0 newly installed, 0 to remove and 15 not upgraded.\n"
          ]
        }
      ]
    },
    {
      "cell_type": "code",
      "source": [
        "!unrar x /content/drive/MyDrive/Dataset.rar /content/"
      ],
      "metadata": {
        "colab": {
          "base_uri": "https://localhost:8080/"
        },
        "id": "P3sRwwau_map",
        "outputId": "a9a5bad3-f0b7-4085-9a5f-dd9979ae4a2f"
      },
      "execution_count": 32,
      "outputs": [
        {
          "output_type": "stream",
          "name": "stdout",
          "text": [
            "\n",
            "UNRAR 5.61 beta 1 freeware      Copyright (c) 1993-2018 Alexander Roshal\n",
            "\n",
            "\n",
            "Extracting from /content/drive/MyDrive/Dataset.rar\n",
            "\n",
            "Extracting  /content/adhd_2.csv                                          \b\b\b\b 15%\b\b\b\b 31%\b\b\b\b\b  OK \n",
            "Extracting  /content/aspergers_2.csv                                     \b\b\b\b 47%\b\b\b\b 50%\b\b\b\b\b  OK \n",
            "Extracting  /content/_2.DS_Store                                         \b\b\b\b 50%\b\b\b\b\b  OK \n",
            "Extracting  /content/_2.gitattributes                                    \b\b\b\b 50%\b\b\b\b\b  OK \n",
            "Extracting  /content/README_2.md                                         \b\b\b\b 50%\b\b\b\b\b  OK \n",
            "Extracting  /content/depression_2.csv                                    \b\b\b\b 66%\b\b\b\b 68%\b\b\b\b\b  OK \n",
            "Extracting  /content/ocd_2.csv                                           \b\b\b\b 84%\b\b\b\b 99%\b\b\b\b\b  OK \n",
            "All OK\n"
          ]
        }
      ]
    },
    {
      "cell_type": "code",
      "source": [
        "import pandas as pd\n",
        "\n",
        "adhd_2 = pd.read_csv('adhd_2.csv')\n",
        "aspergers_2 = pd.read_csv('aspergers_2.csv')\n",
        "depression_2 = pd.read_csv('depression_2.csv')\n",
        "ocd_2 = pd.read_csv('ocd_2.csv')\n",
        "\n",
        "print(adhd_2[:10])\n",
        "print(\"\\\\\\\\\\\\\\\\\\\\\\\\\\\\\\\\\\\\\\\\\\\\\\\\\\\\\\\\\\\\\\\\\\\\\\\\\\\\\\\\\")\n",
        "print(aspergers_2[:10])\n",
        "print(\"\\\\\\\\\\\\\\\\\\\\\\\\\\\\\\\\\\\\\\\\\\\\\\\\\\\\\\\\\\\\\\\\\\\\\\\\\\\\\\\\\")\n",
        "print(depression_2[:10])\n",
        "print(\"\\\\\\\\\\\\\\\\\\\\\\\\\\\\\\\\\\\\\\\\\\\\\\\\\\\\\\\\\\\\\\\\\\\\\\\\\\\\\\\\\")\n",
        "print(ocd_2[:10])"
      ],
      "metadata": {
        "colab": {
          "base_uri": "https://localhost:8080/"
        },
        "id": "Md9vBgmJ_1D6",
        "outputId": "333003ee-9a51-474a-988b-cf851a3eb866"
      },
      "execution_count": 38,
      "outputs": [
        {
          "output_type": "stream",
          "name": "stdout",
          "text": [
            "                 author                                               body  \\\n",
            "0   HotConversation1273  A few months ago I was accepted into this full...   \n",
            "1            snorefestt  Hey guys, I was curious if anyone else has the...   \n",
            "2                etyf12   \\n\\ni have 6 exams in the next 2 weeks one of...   \n",
            "3     GetHairOrDieTryin  Is there anyone out there that is struggling w...   \n",
            "4          ZeroTransPat  Whenever I get hungry, I never eat because I d...   \n",
            "5             [deleted]                                          [removed]   \n",
            "6   Used_Inspection2618  I’m on 20 mg of Lexapro and 50 mg Vyvanse and ...   \n",
            "7         TheToastyToad  I've recently had a big lifestyle change, with...   \n",
            "8        Field-cave1519  I'm a newly diagnosed 42 yr old female, who st...   \n",
            "9  Away_Entertainment29  TL;DR - rough time titrating on concerta for t...   \n",
            "\n",
            "                created_utc      id  num_comments  score subreddit  \\\n",
            "0  2021-12-22T18:32:56.000Z  rmbjwb             1      1      ADHD   \n",
            "1  2021-12-22T18:24:25.000Z  rmbd1y             3      5      ADHD   \n",
            "2  2021-12-22T18:22:52.000Z  rmbbvu             1      2      ADHD   \n",
            "3  2021-12-22T18:20:35.000Z  rmba1t             3      2      ADHD   \n",
            "4  2021-12-22T18:18:47.000Z  rmb8lm             2      1      ADHD   \n",
            "5  2021-12-22T18:18:19.000Z  rmb88p             1      1      ADHD   \n",
            "6  2021-12-22T18:15:52.000Z  rmb6f2             4      1      ADHD   \n",
            "7  2021-12-22T18:13:15.000Z  rmb47u             1      2      ADHD   \n",
            "8  2021-12-22T18:11:07.000Z  rmb2i8             1      1      ADHD   \n",
            "9  2021-12-22T18:09:50.000Z  rmb1ib             1      1      ADHD   \n",
            "\n",
            "                                               title  upvote_ratio  \\\n",
            "0    I get extremely anxious if I’m not working 24/7           1.0   \n",
            "1  I can't will myself to clean my own house, but...           1.0   \n",
            "2                                   i need some help           1.0   \n",
            "3                              Anyone up for a chat?           1.0   \n",
            "4                     Figuring out what to eat sucks           1.0   \n",
            "5             Watching movies at x1.5 playback speed           1.0   \n",
            "6                            Drinking while on meds?           1.0   \n",
            "7                    Using Christmas to take a break           1.0   \n",
            "8  Does everyone get the euphoria feeling when th...           1.0   \n",
            "9                      Xaggatin: zoned out and angry           1.0   \n",
            "\n",
            "                                                 url  \n",
            "0  https://www.reddit.com/r/ADHD/comments/rmbjwb/...  \n",
            "1  https://www.reddit.com/r/ADHD/comments/rmbd1y/...  \n",
            "2  https://www.reddit.com/r/ADHD/comments/rmbbvu/...  \n",
            "3  https://www.reddit.com/r/ADHD/comments/rmba1t/...  \n",
            "4  https://www.reddit.com/r/ADHD/comments/rmb8lm/...  \n",
            "5  https://www.reddit.com/r/ADHD/comments/rmb88p/...  \n",
            "6  https://www.reddit.com/r/ADHD/comments/rmb6f2/...  \n",
            "7  https://www.reddit.com/r/ADHD/comments/rmb47u/...  \n",
            "8  https://www.reddit.com/r/ADHD/comments/rmb2i8/...  \n",
            "9  https://www.reddit.com/r/ADHD/comments/rmb1ib/...  \n",
            "\\\\\\\\\\\\\\\\\\\\\\\\\\\\\\\\\\\\\\\\\n",
            "                 author                                               body  \\\n",
            "0                Adadum  I wish I could do a poll for this but what wou...   \n",
            "1     Lazy_Opposite8263  I was diagnosed with high functioning asperger...   \n",
            "2    LockedOutOfElfland  It's been a while since I've seen a therapist ...   \n",
            "3        PlazmaSkittles  New here.  22 years old.  Diagnosed at 12.  AD...   \n",
            "4           xime_rollin                        based on your understanding   \n",
            "5             liorzdoor  I (17M birthday was yesterday) am getting clos...   \n",
            "6       thelesserbabka_  I'm having dinner with half my family tonight ...   \n",
            "7          aliciaprivas  I decided to spend Christmas alone this year b...   \n",
            "8   LivingMyselfToDeath  It's easier to tackle a properly understood pr...   \n",
            "9  RecollectingWanderer  Soon it'll be the annual \"let's berate my atti...   \n",
            "\n",
            "                created_utc      id  num_comments  score  subreddit  \\\n",
            "0  2021-12-23T17:56:36.000Z  rn19yc             0      1  aspergers   \n",
            "1  2021-12-23T17:53:41.000Z  rn17lw             1      1  aspergers   \n",
            "2  2021-12-23T17:28:07.000Z  rn0n6k             2      3  aspergers   \n",
            "3  2021-12-23T16:54:23.000Z  rmzvwn             3      1  aspergers   \n",
            "4  2021-12-23T16:53:43.000Z  rmzvds             0      1  aspergers   \n",
            "5  2021-12-23T15:47:50.000Z  rmygiu             2     13  aspergers   \n",
            "6  2021-12-23T15:35:34.000Z  rmy7fw             4      7  aspergers   \n",
            "7  2021-12-23T15:26:28.000Z  rmy0im             9     14  aspergers   \n",
            "8  2021-12-23T14:52:59.000Z  rmxb48             1      4  aspergers   \n",
            "9  2021-12-23T14:51:02.000Z  rmx9pe             2      3  aspergers   \n",
            "\n",
            "                                               title  upvote_ratio  \\\n",
            "0           Separatism for high-functioning Autists?          1.00   \n",
            "1  Friend blaming toxic behaviour on autism? How ...          1.00   \n",
            "2  Do therapists/mental health professionals misi...          1.00   \n",
            "3                                 I think I'm broken          1.00   \n",
            "4  I recently took an eq test and scored 20 out o...          1.00   \n",
            "5                                      Found another          1.00   \n",
            "6  Someone please send me good vibes to survive t...          1.00   \n",
            "7     Spending Christmas alone is apparently selfish          1.00   \n",
            "8  What are some good, in depth materials for lea...          1.00   \n",
            "9                     Fuck Christmas and everything.          0.59   \n",
            "\n",
            "                                                 url  \n",
            "0  https://www.reddit.com/r/aspergers/comments/rn...  \n",
            "1  https://www.reddit.com/r/aspergers/comments/rn...  \n",
            "2  https://www.reddit.com/r/aspergers/comments/rn...  \n",
            "3  https://www.reddit.com/r/aspergers/comments/rm...  \n",
            "4  https://www.reddit.com/r/aspergers/comments/rm...  \n",
            "5  https://www.reddit.com/r/aspergers/comments/rm...  \n",
            "6  https://www.reddit.com/r/aspergers/comments/rm...  \n",
            "7  https://www.reddit.com/r/aspergers/comments/rm...  \n",
            "8  https://www.reddit.com/r/aspergers/comments/rm...  \n",
            "9  https://www.reddit.com/r/aspergers/comments/rm...  \n",
            "\\\\\\\\\\\\\\\\\\\\\\\\\\\\\\\\\\\\\\\\\n",
            "                 author                                               body  \\\n",
            "0            thenobfish  *not sure if this counts as self-pity and I’m ...   \n",
            "1               bettr30                                          [removed]   \n",
            "2       ClawdiaMcPawdia  Has Wellbutrin ever worked for anyone? I've be...   \n",
            "3          User00110110  Hello, I have been asking this question for a ...   \n",
            "4                4_F1SH  (not rily sure when to use trigger warnings, b...   \n",
            "5             HootCares                                          [removed]   \n",
            "6  Significant_Look_659  Hello im 21 . Im hypersensitive and depressed ...   \n",
            "7            whatadonow  Idk if this is the place for this, but I need ...   \n",
            "8  Dramatic_Country2535  I’m not sure if this the correct sub to rant b...   \n",
            "9  Adventurous-Habit197  I'm new to Reddit and I think I just want to r...   \n",
            "\n",
            "                created_utc      id  num_comments  score   subreddit  \\\n",
            "0  2021-12-23T18:01:41.000Z  rn1e6b             1      1  depression   \n",
            "1  2021-12-23T17:59:10.000Z  rn1bw0             0      1  depression   \n",
            "2  2021-12-23T17:57:33.000Z  rn1apl             0      1  depression   \n",
            "3  2021-12-23T17:49:22.000Z  rn141w             0      1  depression   \n",
            "4  2021-12-23T17:43:59.000Z  rn0zun             0      1  depression   \n",
            "5  2021-12-23T17:43:17.000Z  rn0zbv             0      1  depression   \n",
            "6  2021-12-23T17:41:25.000Z  rn0xsc             0      1  depression   \n",
            "7  2021-12-23T17:40:27.000Z  rn0wzn             0      2  depression   \n",
            "8  2021-12-23T17:36:36.000Z  rn0tyb             0      1  depression   \n",
            "9  2021-12-23T17:36:12.000Z  rn0tng             0      1  depression   \n",
            "\n",
            "                                               title  upvote_ratio  \\\n",
            "0  *Tries to communicate my pain to others becaus...           1.0   \n",
            "1  New here. While I dont seriously consider suic...           1.0   \n",
            "2                                         Wellbutrin           1.0   \n",
            "3                                          Why am I?           1.0   \n",
            "4                               what’s therapy like?           1.0   \n",
            "5                    How exactly would therapy help?           1.0   \n",
            "6                              Im frozen i cant love           1.0   \n",
            "7                              Where can I get help?           1.0   \n",
            "8  [15M] I absolutely hate almost everything abou...           1.0   \n",
            "9  I don't know what's wrong with me and I don't ...           1.0   \n",
            "\n",
            "                                                 url  \n",
            "0  https://www.reddit.com/r/depression/comments/r...  \n",
            "1  https://www.reddit.com/r/depression/comments/r...  \n",
            "2  https://www.reddit.com/r/depression/comments/r...  \n",
            "3  https://www.reddit.com/r/depression/comments/r...  \n",
            "4  https://www.reddit.com/r/depression/comments/r...  \n",
            "5  https://www.reddit.com/r/depression/comments/r...  \n",
            "6  https://www.reddit.com/r/depression/comments/r...  \n",
            "7  https://www.reddit.com/r/depression/comments/r...  \n",
            "8  https://www.reddit.com/r/depression/comments/r...  \n",
            "9  https://www.reddit.com/r/depression/comments/r...  \n",
            "\\\\\\\\\\\\\\\\\\\\\\\\\\\\\\\\\\\\\\\\\n",
            "                 author                                               body  \\\n",
            "0     christmascamearly  So I know the title/ post sounds gross, but I ...   \n",
            "1         Yupitisme1995  Sorry, I've asked before, but I'm in a dark da...   \n",
            "2          moonwalker04  I changed my account password twice today. The...   \n",
            "3            terrapin09  I have ADHD and I highly suspect I have OCD bu...   \n",
            "4             loveness7                                          [removed]   \n",
            "5  Pretend-Painter-7900  I was fine i was okay and suddenly my mind con...   \n",
            "6         tinabanananaa  When my OCD wasn’t as bad as it is now, I used...   \n",
            "7        Witty_Gate1192  So I have ADHD and I think I may have autism b...   \n",
            "8             loveness7                                          [removed]   \n",
            "9            sussurrusz  \\nI know that its just in my head but this shi...   \n",
            "\n",
            "                created_utc      id  num_comments  score subreddit  \\\n",
            "0  2021-12-22T18:26:02.000Z  rmbecy             1      1       OCD   \n",
            "1  2021-12-22T18:08:52.000Z  rmb0ql             2      1       OCD   \n",
            "2  2021-12-22T17:59:53.000Z  rmat68             0      1       OCD   \n",
            "3  2021-12-22T17:55:59.000Z  rmaq5r             0      1       OCD   \n",
            "4  2021-12-22T17:52:04.000Z  rman3v             0      1       OCD   \n",
            "5  2021-12-22T16:58:19.000Z  rm9gbq             0      1       OCD   \n",
            "6  2021-12-22T16:58:12.000Z  rm9g8c             0      1       OCD   \n",
            "7  2021-12-22T16:56:38.000Z  rm9f1s             1      1       OCD   \n",
            "8  2021-12-22T16:43:13.000Z  rm94sa             0      1       OCD   \n",
            "9  2021-12-22T16:37:20.000Z  rm903a             0      0       OCD   \n",
            "\n",
            "                                               title  upvote_ratio  \\\n",
            "0              OCD with Bathroom use/ Do I have OCD?           1.0   \n",
            "1      Is there anyone I can talk to? I'm desperate.           1.0   \n",
            "2                    HAVE I BEEN HACKED? PLEASE HELP           1.0   \n",
            "3                                       ADHD and OCD           1.0   \n",
            "4  IS IT STILL A FALSE MEMORY IF YOU HAVE THE IMA...           1.0   \n",
            "5                       Feeling iffy all of a sudden           1.0   \n",
            "6                                  Guilt from my OCD           1.0   \n",
            "7  Repeating thoughts and listing things? Is this...           1.0   \n",
            "8  Can a FALSE memory still be FALSE if you have ...           1.0   \n",
            "9  maybe i end my life due to performance anxiety...           0.5   \n",
            "\n",
            "                                                 url  \n",
            "0  https://www.reddit.com/r/OCD/comments/rmbecy/o...  \n",
            "1  https://www.reddit.com/r/OCD/comments/rmb0ql/i...  \n",
            "2  https://www.reddit.com/r/OCD/comments/rmat68/h...  \n",
            "3  https://www.reddit.com/r/OCD/comments/rmaq5r/a...  \n",
            "4  https://www.reddit.com/r/OCD/comments/rman3v/i...  \n",
            "5  https://www.reddit.com/r/OCD/comments/rm9gbq/f...  \n",
            "6  https://www.reddit.com/r/OCD/comments/rm9g8c/g...  \n",
            "7  https://www.reddit.com/r/OCD/comments/rm9f1s/r...  \n",
            "8  https://www.reddit.com/r/OCD/comments/rm94sa/c...  \n",
            "9  https://www.reddit.com/r/OCD/comments/rm903a/m...  \n"
          ]
        }
      ]
    }
  ]
}